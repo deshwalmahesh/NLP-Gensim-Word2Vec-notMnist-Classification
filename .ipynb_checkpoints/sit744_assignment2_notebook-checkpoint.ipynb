{
 "cells": [
  {
   "cell_type": "markdown",
   "metadata": {},
   "source": [
    "----\n",
    "\n",
    "### <span style=\"color:#0b486b\">SIT744 Practical Machine Learning 4DS</span>\n",
    "\n",
    "\n",
    "---"
   ]
  },
  {
   "cell_type": "markdown",
   "metadata": {},
   "source": [
    "\n",
    "# <span style=\"color:#0b486b\">Assignment Two: Deep Neural Networks, Representation Learning, and Text Analytics</span>\n",
    "### Due: <span style=\"color:red\">9:00am 17 September 2018</span>  (Monday)\n",
    "\n",
    "#### <span style=\"color:red\">Important note:</span> This is an **individual** assignment. It contributes **30%** to your final mark. Read the assignment instruction carefully."
   ]
  },
  {
   "cell_type": "markdown",
   "metadata": {},
   "source": [
    "This notebook has been prepared for your to complete Assignment 2. The theme of this assignment is about practical machine learning knowledge and skills in deep neural networks, word embedding and text analytics. Some sections have been partially completed to help you get\n",
    "started. **The total marks for this notebook are 85**.\n",
    "\n",
    "* Before you start, read the entire notebook carefully once to understand what you need to do. <br><br>\n",
    "\n",
    "* For each cell marked with **#YOU ARE REQUIRED TO INSERT YOUR CODES IN THIS CELL**, there will be places where you **must** supply your own codes when instructed. <br>"
   ]
  },
  {
   "cell_type": "markdown",
   "metadata": {},
   "source": [
    "## <span style=\"color:#0b486b\">Instruction</span>\n",
    "\n",
    "This assignment contains **two** parts \n",
    "\n",
    "* Part 1: Deep Feedforward Neural Network **[50 points]**\n",
    "* Part 2: Word2Vec, text analytics and application **[35 points]**\n",
    "\n",
    "**Hint**: This assignment was essentially designed based on the lectures and practical lab sessions covered from Week 5 to 9. You are strongly recommended to go through these contents thoroughly which might help you to complete this assignment."
   ]
  },
  {
   "cell_type": "markdown",
   "metadata": {},
   "source": [
    "## <span style=\"color:#0b486b\">What to submit</span>\n",
    "\n",
    "This assignment is to be completed individually and submitted to CloudDeakin. **By the due date, you are required to submit the following files to the corresponding Assignment (Dropbox) in CloudDeakin**:\n",
    "\n",
    "1.\t<span style=\"color:red\">**[YourID]_assignment2_solution.ipynp**</span>:  **this is your Python notebook solution source file**.\n",
    "1.\t<span style=\"color:red\">**[YourID]_assingment2_output.html**</span>: **this is the output of your Python notebook solution *exported* in html format**.\n",
    "1.\t<span style=\"color:red\">Any extra files needed to complete your assignment</span> (e.g., images used in your answers).\n",
    "\n",
    "For example, if your student ID is: 123456, you will then need to submit the following files:\n",
    "* 123456_assignment2_solution.ipynp\n",
    "* 123456_assignment2_output.html\n",
    "* any extra files or subfolder you might have (this can be named according to your preference).\n",
    "\n",
    "<span style=\"color:red\">Please proceed to the content below to complete your assignment!</span>"
   ]
  },
  {
   "cell_type": "markdown",
   "metadata": {},
   "source": [
    "## <span style=\"color:#0b486b\">Part 1: Deep Feedforward Neural Network </span>\n",
    "<div style=\"text-align: right\"><span style=\"color:red\">**[Total mark for this part: 50 points]**<span></div>\n",
    "\n",
    "The first part of this assignment is for you to demonstrate the knowledge in deep learning that you have acquired from the lectures and practical lab materials. Most of the contents in this assignment are drawn from the practical materials in week 5, 6 and 7 for deep neural networks. Going through these materials before attempting this assignment is highly recommended."
   ]
  },
  {
   "cell_type": "markdown",
   "metadata": {},
   "source": [
    "*Run the following cell to create necessary subfolders for this assignment. You must **not** modify these codes and **must** run it first*."
   ]
  },
  {
   "cell_type": "code",
   "execution_count": 54,
   "metadata": {},
   "outputs": [],
   "source": [
    "# Create necessary subfolders to store immediate files for this assignment.\n",
    "\n",
    "import os\n",
    "if not os.path.exists(\"./models/dnn0\"):\n",
    "    os.makedirs(\"models/dnn0\")"
   ]
  },
  {
   "cell_type": "markdown",
   "metadata": {},
   "source": [
    "The first part of this assignment is to apply DNN to recognize letters from A-Z. You have played with MNIST dataset in your pracs and this should have given a good sense of how to apply DNN on images for recognition task. \n",
    "\n",
    "In this assignment, you are going to work with the **notMNIST** dataset for *letter recognition task*. The dataset contains 10 classes of letters A-J taken from different fonts. You will see some examples at the visualization task in the next part. A short blog about the data can be found [here](http://yaroslavvb.blogspot.com.au/2011/09/notmnist-dataset.html).\n",
    "\n",
    "Here we only consider a small subset which can be found at [this link](http://yaroslavvb.com/upload/notMNIST/notMNIST_small.mat). This file has been already downloaded and stored in subfolder `datasets` of this assignment folder. The file is in *Matlab* format, thus our first task is to:"
   ]
  },
  {
   "cell_type": "markdown",
   "metadata": {},
   "source": [
    "####  <span style=\"color:red\">**Question 1.1**</span>. Load the data into *`numpy array`* format of two variables:\n",
    "* *`x`*: storing features with dimension `[num_samples, width, height]` (`num_samples`: number of samples, `width`: image width, `height`: image height), and\n",
    "* *`y`*: storing labels with dimension `num_samples`. \n",
    "<div style=\"text-align: right\"><span style=\"color:red\">**[3 points]**</span></div>\n",
    "\n",
    "Enter the missing codes in the following cell to complete this question."
   ]
  },
  {
   "cell_type": "code",
   "execution_count": 55,
   "metadata": {},
   "outputs": [],
   "source": [
    "# YOU ARE REQUIRED TO INSERT YOUR CODES IN THIS CELL\n",
    "\n",
    "import numpy as np\n",
    "import scipy.io as sio\n",
    "data = sio.matlab.loadmat(\"datasets/notMNIST_small.mat\")\n",
    "x, y = data['images'],data['labels']\n",
    "x = np.rollaxis(x, axis=2)"
   ]
  },
  {
   "cell_type": "markdown",
   "metadata": {},
   "source": [
    "####  <span style=\"color:red\">**Question 1.2**</span>. Print out the total number of data points, and the *unique* labels in this dataset.\n",
    "<div style=\"text-align: right\"><span style=\"color:red\">**[3 points]**</span></div> "
   ]
  },
  {
   "cell_type": "code",
   "execution_count": 56,
   "metadata": {},
   "outputs": [
    {
     "name": "stdout",
     "output_type": "stream",
     "text": [
      "Total numbers of data points in data are 18724\n",
      "There are 10 unique values in data with values[0. 1. 2. 3. 4. 5. 6. 7. 8. 9.]\n"
     ]
    }
   ],
   "source": [
    "print(f'Total numbers of data points in data are {x.shape[0]}')\n",
    "print(f'There are {len(np.unique(y))} unique values in data with values{np.unique(y)}')"
   ]
  },
  {
   "cell_type": "markdown",
   "metadata": {},
   "source": [
    "####  <span style=\"color:red\">**Question 1.3**</span>. Display 100  images in the form of `10x10` matrix, each row showing 10 *random* images of a label. You might decide to use the function `display_images` provided at the beginning of this assignment, or you can write your own codes.\n",
    "<div style=\"text-align: right\"><span style=\"color:red\">**[4 points]**</span></div> "
   ]
  },
  {
   "cell_type": "code",
   "execution_count": 57,
   "metadata": {},
   "outputs": [],
   "source": [
    "# this function is a utility to display images from the dataset\n",
    "import numpy as np\n",
    "import matplotlib.pyplot as plt\n",
    "%matplotlib inline\n",
    "\n",
    "def display_images(images, shape):\n",
    "    fig = plt.figure(figsize=shape)\n",
    "    fig.subplots_adjust(left=0, right=1, bottom=0, top=1, hspace=0.05, wspace=0.05)\n",
    "    for i in range(np.prod(shape)):\n",
    "        p = fig.add_subplot(shape[0], shape[1], i+1, xticks=[], yticks=[])\n",
    "        p.imshow(images[i], cmap=plt.cm.bone)                "
   ]
  },
  {
   "cell_type": "code",
   "execution_count": 58,
   "metadata": {},
   "outputs": [
    {
     "data": {
      "image/png": "[encoded data removed]",
      "text/plain": [
       "<Figure size 720x720 with 100 Axes>"
      ]
     },
     "metadata": {},
     "output_type": "display_data"
    }
   ],
   "source": [
    "# YOU ARE REQUIRED TO INSERT YOUR CODES IN THIS CELL\n",
    "\n",
    "unique_labels = np.unique(y)\n",
    "images = []\n",
    "for l in unique_labels:   \n",
    "    idx = np.where(y == l)[0] # get all the id's where label is 0\n",
    "    idx = idx[np.random.permutation(len(idx))[:10]]  # choose random 10 values from those values\n",
    "    for i in idx:\n",
    "        images.append(x[i]) # get all the images in a list to display\n",
    "\n",
    "display_images(images, shape=(10, 10))"
   ]
  },
  {
   "cell_type": "markdown",
   "metadata": {},
   "source": [
    "####  <span style=\"color:red\">**Question 1.4**</span>. Use the *deep feedforward neural network* as the classifier to perform images classification task in a *single split training and testing*.\n",
    "\n",
    "The total marks for this question is <span style=\"color:red\">**[40 points]**</span>, with the following detailed breakdown sub-questions:"
   ]
  },
  {
   "cell_type": "markdown",
   "metadata": {},
   "source": [
    "<span style=\"color:red\">**(a)**</span> **Write your code to reshape the variable `x` storing features from `[num_samples, width, height]` dimension to `[num_samples, num_features]` with `num_features = width x height`. ** (*Hint*: you might want to use the `reshape()' function)\n",
    "<div style=\"text-align: right\"> <span style=\"color:red\">**[3 points]**</span> </div>"
   ]
  },
  {
   "cell_type": "code",
   "execution_count": 68,
   "metadata": {},
   "outputs": [],
   "source": [
    "# YOU ARE REQUIRED TO INSERT YOUR CODES IN THIS CELL\n",
    "x = x.reshape((-1,28*28))"
   ]
  },
  {
   "cell_type": "markdown",
   "metadata": {},
   "source": [
    "In training the DNN, scaling data is important. The pixel intensities of images are in the range of [0, 255], which makes the neural network difficult to learn."
   ]
  },
  {
   "cell_type": "markdown",
   "metadata": {},
   "source": [
    "**Rescale the input data into the range of [0, 1]**\n",
    "<div style=\"text-align: right\"> \n",
    "<span style=\"color:red\">**[2 points]**</span> </div>"
   ]
  },
  {
   "cell_type": "code",
   "execution_count": 69,
   "metadata": {
    "scrolled": true
   },
   "outputs": [],
   "source": [
    "# YOU ARE REQUIRED TO INSERT YOUR CODES IN THIS CELL\n",
    "x = x/255.0"
   ]
  },
  {
   "cell_type": "markdown",
   "metadata": {},
   "source": [
    "<span style=\"color:red\">**(b)**</span> **Split the data into two subsets: 70% for training and 30% for testing. Note that you must use [*Stratified-Shuffle-Split*](http://scikit-learn.org/stable/modules/generated/sklearn.model_selection.StratifiedShuffleSplit.html) to make sure training and testing are balanced and randomly shuffled before learning the model.**\n",
    "<div style=\"text-align: right\"> <span style=\"color:red\">**[5 points]**</span> </div>"
   ]
  },
  {
   "cell_type": "code",
   "execution_count": 70,
   "metadata": {},
   "outputs": [],
   "source": [
    "# YOU ARE REQUIRED TO INSERT YOUR CODES IN THIS CELL\n",
    "from sklearn.model_selection import train_test_split, StratifiedShuffleSplit\n",
    "\n",
    "X_train,X_test,y_train,y_test = train_test_split(x,y,test_size=0.3,stratify=y,\n",
    "                                                 random_state=13,shuffle=True)\n",
    "\n",
    "\n",
    "# Alternatively you can use the code below\n",
    "\n",
    "# sss = StratifiedShuffleSplit(test_size=0.3,n_splits=2,random_state=13)\n",
    "# for train_index, test_index in sss.split(x, y):\n",
    "    # X_train, X_test = x[train_index], x[test_index]\n",
    "    # y_train, y_test = y[train_index], y[test_index]"
   ]
  },
  {
   "cell_type": "markdown",
   "metadata": {},
   "source": [
    "<span style=\"color:red\">**(c)**</span> **Construct a deep feedforward neural network with the following architecture:**\n",
    "\n",
    "* An input layer followed by *two* hidden layers, each with *500* hidden units, and an *output* layer;\n",
    "* *ReLU* activations for neurons in each hidden layer;\n",
    "* Training with gradient descent optimizer with learning rate **0.0011**, batch size 128 and 50 epochs.\n",
    "\n",
    "(*Hint*: *this question heavily relies on the knowledge you've learned from lab session in week 5 and 6. You are encouraged to revise these materials for this question*)\n",
    "\n",
    "<div style=\"text-align: right\"> <span style=\"color:red\">**[25 points]**</span> </div>"
   ]
  },
  {
   "cell_type": "markdown",
   "metadata": {},
   "source": [
    "#  NOTE\n",
    "## I have implemented the below code in `Keras` than in `Tensorflow`"
   ]
  },
  {
   "cell_type": "markdown",
   "metadata": {},
   "source": [
    "# KERAS based Model \n",
    "`1.4 c`"
   ]
  },
  {
   "cell_type": "code",
   "execution_count": 78,
   "metadata": {},
   "outputs": [],
   "source": [
    "from keras.layers import Dense\n",
    "from keras.models import Sequential\n",
    "from keras.optimizers import Adam\n",
    "from keras.utils import to_categorical\n",
    "\n",
    "BATCH_SIZE = 125\n",
    "EPOCH = 50\n",
    "lr = 0.0011"
   ]
  },
  {
   "cell_type": "code",
   "execution_count": 81,
   "metadata": {},
   "outputs": [],
   "source": [
    "model = Sequential([\n",
    "  Dense(500, activation='relu',input_shape=(784,)),\n",
    "  Dense(500, activation='relu'),\n",
    "  Dense(10, activation='softmax'),])\n",
    "\n",
    "model.compile(optimizer=Adam(lr=lr),metrics=['accuracy',],loss='categorical_crossentropy')"
   ]
  },
  {
   "cell_type": "markdown",
   "metadata": {},
   "source": [
    "# Model Training and Predictions\n",
    "`1.4 d`"
   ]
  },
  {
   "cell_type": "code",
   "execution_count": 82,
   "metadata": {},
   "outputs": [
    {
     "name": "stdout",
     "output_type": "stream",
     "text": [
      "Train on 10484 samples, validate on 2622 samples\n",
      "Epoch 1/50\n",
      "10484/10484 [==============================] - 6s 569us/step - loss: 0.5624 - acc: 0.8379 - val_loss: 0.3560 - val_acc: 0.9062\n",
      "Epoch 2/50\n",
      "10484/10484 [==============================] - 5s 479us/step - loss: 0.3173 - acc: 0.9090 - val_loss: 0.3483 - val_acc: 0.8989\n",
      "Epoch 3/50\n",
      "10484/10484 [==============================] - 5s 522us/step - loss: 0.2507 - acc: 0.9274 - val_loss: 0.3317 - val_acc: 0.9031\n",
      "Epoch 4/50\n",
      "10484/10484 [==============================] - 6s 526us/step - loss: 0.2051 - acc: 0.9370 - val_loss: 0.3452 - val_acc: 0.9047\n",
      "Epoch 5/50\n",
      "10484/10484 [==============================] - 6s 549us/step - loss: 0.1563 - acc: 0.9539 - val_loss: 0.3294 - val_acc: 0.9073\n",
      "Epoch 6/50\n",
      "10484/10484 [==============================] - 5s 468us/step - loss: 0.1336 - acc: 0.9590 - val_loss: 0.3411 - val_acc: 0.9184\n",
      "Epoch 7/50\n",
      "10484/10484 [==============================] - 5s 459us/step - loss: 0.1158 - acc: 0.9658 - val_loss: 0.3482 - val_acc: 0.9092\n",
      "Epoch 8/50\n",
      "10484/10484 [==============================] - 6s 593us/step - loss: 0.0952 - acc: 0.9709 - val_loss: 0.3557 - val_acc: 0.9191\n",
      "Epoch 9/50\n",
      "10484/10484 [==============================] - 6s 557us/step - loss: 0.0784 - acc: 0.9757 - val_loss: 0.3736 - val_acc: 0.9199\n",
      "Epoch 10/50\n",
      "10484/10484 [==============================] - 6s 557us/step - loss: 0.0595 - acc: 0.9821 - val_loss: 0.3986 - val_acc: 0.9150\n",
      "Epoch 11/50\n",
      "10484/10484 [==============================] - 6s 571us/step - loss: 0.0666 - acc: 0.9793 - val_loss: 0.3875 - val_acc: 0.9211\n",
      "Epoch 12/50\n",
      "10484/10484 [==============================] - 6s 547us/step - loss: 0.0591 - acc: 0.9802 - val_loss: 0.4238 - val_acc: 0.9161\n",
      "Epoch 13/50\n",
      "10484/10484 [==============================] - 6s 564us/step - loss: 0.0472 - acc: 0.9857 - val_loss: 0.4440 - val_acc: 0.9218\n",
      "Epoch 14/50\n",
      "10484/10484 [==============================] - 6s 545us/step - loss: 0.0590 - acc: 0.9846 - val_loss: 0.4683 - val_acc: 0.9138\n",
      "Epoch 15/50\n",
      "10484/10484 [==============================] - 6s 570us/step - loss: 0.0524 - acc: 0.9833 - val_loss: 0.4406 - val_acc: 0.9188\n",
      "Epoch 16/50\n",
      "10484/10484 [==============================] - 6s 576us/step - loss: 0.0571 - acc: 0.9815 - val_loss: 0.4293 - val_acc: 0.9211\n",
      "Epoch 17/50\n",
      "10484/10484 [==============================] - 6s 528us/step - loss: 0.0324 - acc: 0.9903 - val_loss: 0.4809 - val_acc: 0.9130\n",
      "Epoch 18/50\n",
      "10484/10484 [==============================] - 6s 540us/step - loss: 0.0456 - acc: 0.9860 - val_loss: 0.4585 - val_acc: 0.9184\n",
      "Epoch 19/50\n",
      "10484/10484 [==============================] - 6s 575us/step - loss: 0.0305 - acc: 0.9898 - val_loss: 0.4974 - val_acc: 0.9176\n",
      "Epoch 20/50\n",
      "10484/10484 [==============================] - 6s 552us/step - loss: 0.0391 - acc: 0.9873 - val_loss: 0.4739 - val_acc: 0.9191\n",
      "Epoch 21/50\n",
      "10484/10484 [==============================] - 6s 589us/step - loss: 0.0352 - acc: 0.9880 - val_loss: 0.4964 - val_acc: 0.9180\n",
      "Epoch 22/50\n",
      "10484/10484 [==============================] - 6s 593us/step - loss: 0.0305 - acc: 0.9914 - val_loss: 0.5266 - val_acc: 0.9169\n",
      "Epoch 23/50\n",
      "10484/10484 [==============================] - 6s 593us/step - loss: 0.0208 - acc: 0.9935 - val_loss: 0.5410 - val_acc: 0.9199\n",
      "Epoch 24/50\n",
      "10484/10484 [==============================] - 6s 593us/step - loss: 0.0259 - acc: 0.9921 - val_loss: 0.4988 - val_acc: 0.9230\n",
      "Epoch 25/50\n",
      "10484/10484 [==============================] - 6s 600us/step - loss: 0.0199 - acc: 0.9924 - val_loss: 0.5188 - val_acc: 0.9195\n",
      "Epoch 26/50\n",
      "10484/10484 [==============================] - 6s 602us/step - loss: 0.0304 - acc: 0.9900 - val_loss: 0.5539 - val_acc: 0.9165\n",
      "Epoch 27/50\n",
      "10484/10484 [==============================] - 6s 588us/step - loss: 0.0310 - acc: 0.9909 - val_loss: 0.6016 - val_acc: 0.9108\n",
      "Epoch 28/50\n",
      "10484/10484 [==============================] - 7s 639us/step - loss: 0.0335 - acc: 0.9890 - val_loss: 0.5312 - val_acc: 0.9191\n",
      "Epoch 29/50\n",
      "10484/10484 [==============================] - 7s 653us/step - loss: 0.0244 - acc: 0.9921 - val_loss: 0.5548 - val_acc: 0.9188\n",
      "Epoch 30/50\n",
      "10484/10484 [==============================] - 7s 621us/step - loss: 0.0174 - acc: 0.9950 - val_loss: 0.5452 - val_acc: 0.9184\n",
      "Epoch 31/50\n",
      "10484/10484 [==============================] - 6s 591us/step - loss: 0.0308 - acc: 0.9911 - val_loss: 0.5921 - val_acc: 0.9153\n",
      "Epoch 32/50\n",
      "10484/10484 [==============================] - 7s 631us/step - loss: 0.0244 - acc: 0.9922 - val_loss: 0.6202 - val_acc: 0.9150\n",
      "Epoch 33/50\n",
      "10484/10484 [==============================] - 7s 639us/step - loss: 0.0163 - acc: 0.9948 - val_loss: 0.5518 - val_acc: 0.9230\n",
      "Epoch 34/50\n",
      "10484/10484 [==============================] - 6s 607us/step - loss: 0.0179 - acc: 0.9939 - val_loss: 0.6125 - val_acc: 0.9199\n",
      "Epoch 35/50\n",
      "10484/10484 [==============================] - 7s 625us/step - loss: 0.0161 - acc: 0.9948 - val_loss: 0.5731 - val_acc: 0.9188\n",
      "Epoch 36/50\n",
      "10484/10484 [==============================] - 7s 674us/step - loss: 0.0132 - acc: 0.9956 - val_loss: 0.6028 - val_acc: 0.9203\n",
      "Epoch 37/50\n",
      "10484/10484 [==============================] - 7s 626us/step - loss: 0.0228 - acc: 0.9933 - val_loss: 0.5770 - val_acc: 0.9172\n",
      "Epoch 38/50\n",
      "10484/10484 [==============================] - 7s 687us/step - loss: 0.0134 - acc: 0.9955 - val_loss: 0.6026 - val_acc: 0.9241\n",
      "Epoch 39/50\n",
      "10484/10484 [==============================] - 7s 625us/step - loss: 0.0244 - acc: 0.9923 - val_loss: 0.5846 - val_acc: 0.9191\n",
      "Epoch 40/50\n",
      "10484/10484 [==============================] - 6s 581us/step - loss: 0.0299 - acc: 0.9909 - val_loss: 0.5847 - val_acc: 0.9222\n",
      "Epoch 41/50\n",
      "10484/10484 [==============================] - 7s 706us/step - loss: 0.0219 - acc: 0.9934 - val_loss: 0.6297 - val_acc: 0.9169\n",
      "Epoch 42/50\n",
      "10484/10484 [==============================] - 7s 629us/step - loss: 0.0251 - acc: 0.9925 - val_loss: 0.7427 - val_acc: 0.8997\n",
      "Epoch 43/50\n",
      "10484/10484 [==============================] - 7s 652us/step - loss: 0.0336 - acc: 0.9892 - val_loss: 0.6187 - val_acc: 0.9180\n",
      "Epoch 44/50\n",
      "10484/10484 [==============================] - 6s 599us/step - loss: 0.0262 - acc: 0.9911 - val_loss: 0.6205 - val_acc: 0.9165\n",
      "Epoch 45/50\n",
      "10484/10484 [==============================] - 7s 634us/step - loss: 0.0168 - acc: 0.9948 - val_loss: 0.6203 - val_acc: 0.9222\n",
      "Epoch 46/50\n",
      "10484/10484 [==============================] - 7s 649us/step - loss: 0.0272 - acc: 0.9914 - val_loss: 0.6479 - val_acc: 0.9134\n",
      "Epoch 47/50\n",
      "10484/10484 [==============================] - 6s 598us/step - loss: 0.0096 - acc: 0.9964 - val_loss: 0.6176 - val_acc: 0.9195\n",
      "Epoch 48/50\n",
      "10484/10484 [==============================] - 6s 584us/step - loss: 0.0071 - acc: 0.9975 - val_loss: 0.5931 - val_acc: 0.9214\n",
      "Epoch 49/50\n",
      "10484/10484 [==============================] - 6s 617us/step - loss: 0.0044 - acc: 0.9983 - val_loss: 0.6318 - val_acc: 0.9230\n",
      "Epoch 50/50\n",
      "10484/10484 [==============================] - 7s 658us/step - loss: 0.0103 - acc: 0.9967 - val_loss: 0.6375 - val_acc: 0.9169\n"
     ]
    }
   ],
   "source": [
    "history = model.fit(X_train,to_categorical(y_train),\n",
    "                    epochs=EPOCH,batch_size=BATCH_SIZE,validation_split=0.2)"
   ]
  },
  {
   "cell_type": "markdown",
   "metadata": {},
   "source": [
    "______________________________________________________________________________________________________"
   ]
  },
  {
   "cell_type": "code",
   "execution_count": null,
   "metadata": {
    "collapsed": true,
    "jupyter": {
     "outputs_hidden": true
    }
   },
   "outputs": [],
   "source": [
    "# YOU ARE REQUIRED TO INSERT YOUR CODES IN THIS CELL [5 marks]\n",
    "\n",
    "import tensorflow as tf\n",
    "\n",
    "tf.reset_default_graph()\n",
    "\n",
    "num_inputs = # INSERT YOUR CODE HERE\n",
    "num_hidden1 = # INSERT YOUR CODE HERE\n",
    "num_hidden2 = # INSERT YOUR CODE HERE\n",
    "num_outputs = len(np.unique(y))\n",
    "\n",
    "inputs = # INSERT YOUR CODE HERE\n",
    "labels = # INSERT YOUR CODE HERE"
   ]
  },
  {
   "cell_type": "code",
   "execution_count": null,
   "metadata": {
    "collapsed": true,
    "jupyter": {
     "outputs_hidden": true
    }
   },
   "outputs": [],
   "source": [
    "# YOU ARE REQUIRED TO INSERT YOUR CODES IN THIS CELL [3 marks]\n",
    "\n",
    "def neuron_layer(x, num_neurons, name, activation=None):\n",
    "    with tf.name_scope(name):\n",
    "        # INSERT YOUR CODE HERE\n",
    "    if activation == \"sigmoid\":\n",
    "        # INSERT YOUR CODE HERE\n",
    "    elif activation == \"relu\":\n",
    "        # INSERT YOUR CODE HERE\n",
    "    else:\n",
    "        return z"
   ]
  },
  {
   "cell_type": "code",
   "execution_count": null,
   "metadata": {
    "collapsed": true,
    "jupyter": {
     "outputs_hidden": true
    }
   },
   "outputs": [],
   "source": [
    "# YOU ARE REQUIRED TO INSERT YOUR CODES IN THIS CELL [7 marks]\n",
    "\n",
    "with tf.name_scope(\"dnn\"):\n",
    "    hidden1 = # INSERT YOUR CODE HERE\n",
    "    hidden2 = # INSERT YOUR CODE HERE\n",
    "    logits = # INSERT YOUR CODE HERE\n",
    "with tf.name_scope(\"loss\"):\n",
    "    xentropy = # INSERT YOUR CODE HERE\n",
    "    loss = tf.reduce_mean(xentropy, name=\"loss\")\n",
    "    \n",
    "with tf.name_scope(\"evaluation\"):\n",
    "   # INSERT YOUR CODE HERE\n",
    "    \n",
    "with tf.name_scope(\"train\"):\n",
    "   # INSERT YOUR CODE HERE\n",
    "    \n",
    "    for var in tf.trainable_variables():\n",
    "        tf.summary.histogram(var.op.name + \"/values\", var)\n",
    "        \n",
    "    for grad, var in grads:\n",
    "        if grad is not None:\n",
    "            tf.summary.histogram(var.op.name + \"/gradients\", grad)\n",
    "\n",
    "# summary\n",
    "accuracy_summary = # INSERT YOUR CODE HERE\n"
   ]
  },
  {
   "cell_type": "code",
   "execution_count": null,
   "metadata": {
    "collapsed": true,
    "jupyter": {
     "outputs_hidden": true
    }
   },
   "outputs": [],
   "source": [
    "# YOU ARE REQUIRED TO INSERT YOUR CODES IN THIS CELL [5 marks]\n",
    "\n",
    "# merge all summary\n",
    "tf.summary.histogram('hidden1/activations', hidden1)\n",
    "tf.summary.histogram('hidden2/activations', hidden2)\n",
    "merged = # INSERT YOUR CODE HERE\n",
    "\n",
    "init = # INSERT YOUR CODE HERE\n",
    "saver = # INSERT YOUR CODE HERE\n",
    "\n",
    "train_writer = tf.summary.FileWriter(\"models/dnn0/train\", tf.get_default_graph())\n",
    "test_writer = tf.summary.FileWriter(\"models/dnn0/test\", tf.get_default_graph())\n",
    "\n",
    "num_epochs = # INSERT YOUR CODE HERE\n",
    "batch_size = # INSERT YOUR CODE HERE"
   ]
  },
  {
   "cell_type": "markdown",
   "metadata": {},
   "source": [
    "<span style=\"color:red\">**(d)**</span> **You are now required write code to train the DNN.** Write codes in the following cell. <span style=\"color:red\">**[5 points]**</span> </div>"
   ]
  },
  {
   "cell_type": "code",
   "execution_count": null,
   "metadata": {},
   "outputs": [],
   "source": [
    "# YOU ARE REQUIRED TO INSERT YOUR CODES IN THIS CELL\n",
    "\n",
    "with tf.Session() as sess:\n",
    "    init.run()\n",
    "    print(\"Epoch\\tTrain accuracy\\tTest accuracy\")\n",
    "    for epoch in range(num_epochs):\n",
    "        for idx_start in range(0, x_train.shape[0], batch_size):\n",
    "            idx_end = # INSERT YOUR CODE HERE\n",
    "            x_batch, y_batch = # INSERT YOUR CODE HERE\n",
    "            sess.run(training_op, feed_dict={inputs: x_batch, labels: y_batch})\n",
    "            \n",
    "        summary_train, acc_train = # INSERT YOUR CODE HERE\n",
    "        summary_test, acc_test = # INSERT YOUR CODE HERE\n",
    "        \n",
    "        train_writer.add_summary(summary_train, epoch)\n",
    "        test_writer.add_summary(summary_test, epoch)\n",
    "        \n",
    "        print(\"{}\\t{}\\t{}\".format(epoch, acc_train, acc_test))\n",
    "\n",
    "    save_path = saver.save(sess, \"models/dnn0.ckpt\")"
   ]
  },
  {
   "cell_type": "markdown",
   "metadata": {},
   "source": [
    "---"
   ]
  },
  {
   "cell_type": "markdown",
   "metadata": {},
   "source": [
    "## <span style=\"color:#0b486b\">Part 2: Word2Vec, Text Analytics and Application</span>\n",
    "<div style=\"text-align: right\"><span style=\"color:red\">**[Total mark for this part: 35 points]**<span></div>\n",
    "\n",
    "\n",
    "In this part, you are going to use Word2Vec for document classification on [20 Newsgroups](http://www.cs.cmu.edu/afs/cs.cmu.edu/project/theo-20/www/data/news20.html) dataset. This dataset is a collection of messages collected from 20 different netnews newsgroups. One thousand messages from each of the twenty newsgroups were chosen at random and partitioned by newsgroup name. The list of newsgroups from which the messages were chosen is as follows:\n",
    "\n",
    "`\n",
    "alt.atheism\n",
    "talk.politics.guns\n",
    "talk.politics.mideast\n",
    "talk.politics.misc\n",
    "talk.religion.misc\n",
    "soc.religion.christian\n",
    "comp.sys.ibm.pc.hardware\n",
    "comp.graphics\n",
    "comp.os.ms-windows.misc\n",
    "comp.sys.mac.hardware\n",
    "comp.windows.x\n",
    "rec.autos\n",
    "rec.motorcycles\n",
    "rec.sport.baseball\n",
    "rec.sport.hockey\n",
    "sci.crypt\n",
    "sci.electronics\n",
    "sci.space\n",
    "sci.med\n",
    "misc.forsale\n",
    "`"
   ]
  },
  {
   "cell_type": "markdown",
   "metadata": {},
   "source": [
    "### <span style=\"color:#0b486b\"> Download the dataset and data pre-processing</span>\n",
    "\n",
    "####  <span style=\"color:red\">**Question 2.1**</span> Your first task is to run the following code to download the dataset.\n",
    "\n",
    "<div style=\"text-align: right\"><span style=\"color:red\">**[1 point]**</span></div> "
   ]
  },
  {
   "cell_type": "code",
   "execution_count": 102,
   "metadata": {},
   "outputs": [],
   "source": [
    "from sklearn.datasets import fetch_20newsgroups\n",
    "newsgroups_all = fetch_20newsgroups(subset='all', remove=('headers'))"
   ]
  },
  {
   "cell_type": "markdown",
   "metadata": {},
   "source": [
    "####  <span style=\"color:red\">**Question 2.2**</span>. Print out the total number of documents, and the *unique* labels in this dataset.\n",
    "<div style=\"text-align: right\"><span style=\"color:red\">**[1 point]**</span></div> "
   ]
  },
  {
   "cell_type": "code",
   "execution_count": 103,
   "metadata": {},
   "outputs": [
    {
     "name": "stdout",
     "output_type": "stream",
     "text": [
      "Total number of documents is: 18846\n",
      "Unique labels are: 20 \n"
     ]
    }
   ],
   "source": [
    "# YOU ARE REQUIRED TO INSERT YOUR CODES IN THIS CELL\n",
    "if not np:\n",
    "    import numpy as np \n",
    "\n",
    "print(f\"Total number of documents is: {len(newsgroups_all['data'])}\")\n",
    "print(f\"Unique labels are: {len(np.unique(newsgroups_all['target']))} \")"
   ]
  },
  {
   "cell_type": "markdown",
   "metadata": {},
   "source": [
    "####  <span style=\"color:red\">**Question 2.3**</span>. Convert the documents into a list of tokens using the function `gensim.utils.tokenize`.\n",
    "<div style=\"text-align: right\"><span style=\"color:red\">**[3 point]**</span></div>\n"
   ]
  },
  {
   "cell_type": "code",
   "execution_count": 104,
   "metadata": {},
   "outputs": [],
   "source": [
    "import gensim\n",
    "\n",
    "# YOU ARE REQUIRED TO INSERT YOUR CODES IN THIS CELL\n",
    "\n",
    "tokenized_data = []\n",
    "\n",
    "for article in newsgroups_all['data']:\n",
    "    tokenized_data.append(list(gensim.utils.tokenize(article)))"
   ]
  },
  {
   "cell_type": "markdown",
   "metadata": {},
   "source": [
    "### <span style=\"color:#0b486b\"> Train the model </span>\n",
    "\n",
    "\n",
    "####  <span style=\"color:red\">**Question 2.4**</span>. Train gensim's word2vec model.\n",
    "<div style=\"text-align: right\"><span style=\"color:red\">**[5 points]**</span></div>\n",
    "\n",
    "* Train gensim's word2vec model with the settings of:\n",
    "    * The dimensionality of the feature vectors: `size=100`,\n",
    "    * The maximum distance between the current and predicted word within a sentence: `window=5`,\n",
    "    * Minimum frequence (ignore all words with total frequency lower than this): `min_count=5`,\n"
   ]
  },
  {
   "cell_type": "code",
   "execution_count": 105,
   "metadata": {},
   "outputs": [],
   "source": [
    "from gensim.models import Word2Vec\n",
    "\n",
    "# YOU ARE REQUIRED TO INSERT YOUR CODES IN THIS CELL\n",
    "model = Word2Vec(sentences=tokenized_data,window=5,min_count=5,size=100)"
   ]
  },
  {
   "cell_type": "markdown",
   "metadata": {},
   "source": [
    "* Save the trained model to a file named \"20_newsgroups.gensim\""
   ]
  },
  {
   "cell_type": "code",
   "execution_count": 106,
   "metadata": {},
   "outputs": [],
   "source": [
    "# YOU ARE REQUIRED TO INSERT YOUR CODES IN THIS CELL\n",
    "model.save('20_newsgroups.gensim')"
   ]
  },
  {
   "cell_type": "markdown",
   "metadata": {},
   "source": [
    "####  <span style=\"color:red\">**Question 2.5**</span>. Print out the vocabulary size (number of words in vocabulary).\n",
    "<div style=\"text-align: right\"><span style=\"color:red\">**[2 points]**</span></div> "
   ]
  },
  {
   "cell_type": "code",
   "execution_count": 15,
   "metadata": {},
   "outputs": [
    {
     "name": "stdout",
     "output_type": "stream",
     "text": [
      "Model has a vocab size of 42461 words\n"
     ]
    }
   ],
   "source": [
    "# YOU ARE REQUIRED TO INSERT YOUR CODES IN THIS CELL\n",
    "words = list(model.wv.vocab)\n",
    "print(f'Model has a vocab size of {len(words)} words')"
   ]
  },
  {
   "cell_type": "markdown",
   "metadata": {},
   "source": [
    "####  <span style=\"color:red\">**Question 2.6**</span>. Using the embedding results, calculate and print out the ten most similar words to word 'law' and their corresponding similarity scores.<div style=\"text-align: right\"><span style=\"color:red\">**[3 points]**</span></div> "
   ]
  },
  {
   "cell_type": "code",
   "execution_count": 29,
   "metadata": {},
   "outputs": [
    {
     "name": "stdout",
     "output_type": "stream",
     "text": [
      "Similar Words to \"law\" and their similarity scores:\n",
      "\n",
      "\n",
      "Word\t\t Similarity Score \n",
      "\n",
      "laws \t\t 0.7500803470611572 \n",
      "\n",
      "enforcement \t\t 0.738868236541748 \n",
      "\n",
      "court \t\t 0.7279587984085083 \n",
      "\n",
      "government \t\t 0.6985544562339783 \n",
      "\n",
      "legal \t\t 0.690343976020813 \n",
      "\n",
      "property \t\t 0.6897194385528564 \n",
      "\n",
      "authorities \t\t 0.6877896785736084 \n",
      "\n",
      "Israel \t\t 0.6868168711662292 \n",
      "\n",
      "authority \t\t 0.6853451728820801 \n",
      "\n",
      "state \t\t 0.6831842660903931 \n",
      "\n"
     ]
    }
   ],
   "source": [
    "# YOU ARE REQUIRED TO INSERT YOUR CODES IN THIS CELL\n",
    "print('Similar Words to \"law\" and their similarity scores:\\n\\n')\n",
    "\n",
    "print('Word\\t\\t Similarity Score \\n')\n",
    "for tup in model.wv.most_similar(['law'],topn=10,):\n",
    "    print(tup[0],'\\t\\t',tup[1],'\\n')"
   ]
  },
  {
   "cell_type": "markdown",
   "metadata": {},
   "source": [
    "### <span style=\"color:#0b486b\"> Evaluate the embeddings using classification </span>\n",
    "\n",
    "Now we investigate the quality of embedded vectors via document classification task. We have learned the embeddings for words, but not for documents yet, thus we need to find a way to extract the document embeddings from word embeddings. We are going to try two approaches:\n",
    "* Taking the **sum** of vectors of all words in the document; or\n",
    "* Taking the **average** of vectors of all words in the document.\n",
    "\n",
    "####  <span style=\"color:red\">**Question 2.7**</span>. Extract document vectors using `sum`.\n",
    "<div style=\"text-align: right\"><span style=\"color:red\">**[5 points]**</span></div> \n",
    "\n",
    "* Remove all ***empty*** documents. A document is empty if it does not contain any word in the vocabulary;\n",
    "* Extract document vectors and save to variable `x`;\n",
    "* Save the corresponding labels to variable `y`."
   ]
  },
  {
   "cell_type": "code",
   "execution_count": 118,
   "metadata": {},
   "outputs": [],
   "source": [
    "# YOU ARE REQUIRED TO INSERT YOUR CODES IN THIS CELL\n",
    "\n",
    "def extract_doc2vec(doc, w2v):\n",
    "    vecs = [w2v[word] for word in doc if word in w2v]\n",
    "    if len(vecs) > 0:\n",
    "        vecs = np.asarray(vecs).sum(axis=0)\n",
    "    return vecs\n",
    "\n",
    "# INSERT YOUR CODE HERE"
   ]
  },
  {
   "cell_type": "code",
   "execution_count": 119,
   "metadata": {},
   "outputs": [
    {
     "name": "stderr",
     "output_type": "stream",
     "text": [
      "/home/deshwal/anaconda3/lib/python3.7/site-packages/ipykernel_launcher.py:4: DeprecationWarning: Call to deprecated `__contains__` (Method will be removed in 4.0.0, use self.wv.__contains__() instead).\n",
      "  after removing the cwd from sys.path.\n",
      "/home/deshwal/anaconda3/lib/python3.7/site-packages/ipykernel_launcher.py:4: DeprecationWarning: Call to deprecated `__getitem__` (Method will be removed in 4.0.0, use self.wv.__getitem__() instead).\n",
      "  after removing the cwd from sys.path.\n"
     ]
    }
   ],
   "source": [
    "labels = newsgroups_all['target']\n",
    "x = []\n",
    "y = []\n",
    "\n",
    "empty_index = []\n",
    "\n",
    "for i in range(len(tokenized_data)):\n",
    "    vecs = extract_doc2vec(tokenized_data[i],model)\n",
    "    if len(vecs):\n",
    "        x.append(vecs)\n",
    "        y.append(labels[i])\n",
    "    else:\n",
    "        empty_index.append(i)"
   ]
  },
  {
   "cell_type": "markdown",
   "metadata": {},
   "source": [
    "####  <span style=\"color:red\">**Question 2.8**</span>. Print out the number of documents retained after removing empty documents.\n",
    "<div style=\"text-align: right\"><span style=\"color:red\">**[1 point]**</span></div> "
   ]
  },
  {
   "cell_type": "code",
   "execution_count": 120,
   "metadata": {},
   "outputs": [
    {
     "name": "stdout",
     "output_type": "stream",
     "text": [
      "Number of documents retained after removing empty documents are 18809\n"
     ]
    }
   ],
   "source": [
    "# YOU ARE REQUIRED TO INSERT YOUR CODES IN THIS CELL\n",
    "\n",
    "print(f'Number of documents retained after removing empty documents are {len(x)}')"
   ]
  },
  {
   "cell_type": "markdown",
   "metadata": {},
   "source": [
    "#### <span style=\"color:red\">**Question 2.9**</span>. Split the data into two subsets: 70% for training and 30% for testing. Note that you must use [*Stratified-Shuffle-Split*](http://scikit-learn.org/stable/modules/generated/sklearn.model_selection.StratifiedShuffleSplit.html) to make sure training and testing are balanced and randomly shuffled before learning the model.\n",
    "<div style=\"text-align: right\"> <span style=\"color:red\">**[2 points]**</span> </div>"
   ]
  },
  {
   "cell_type": "code",
   "execution_count": 122,
   "metadata": {},
   "outputs": [],
   "source": [
    "# YOU ARE REQUIRED TO INSERT YOUR CODES IN THIS CELL\n",
    "X_train,X_test,y_train,y_test = train_test_split(x,y,test_size=0.3,stratify=y,\n",
    "                                                 random_state=13,shuffle=True)"
   ]
  },
  {
   "cell_type": "markdown",
   "metadata": {},
   "source": [
    "#### <span style=\"color:red\">**Question 2.10**</span>. **Use [Logistic Regression](http://scikit-learn.org/stable/modules/generated/sklearn.linear_model.LogisticRegression.html) as the classifier, train and test the model using the training and test datasets from the previous step. Report the training accuracy and testing accuracy.**\n",
    "<div style=\"text-align: right\"> <span style=\"color:red\">**[2 points]**</span> </div>"
   ]
  },
  {
   "cell_type": "code",
   "execution_count": 98,
   "metadata": {},
   "outputs": [
    {
     "name": "stdout",
     "output_type": "stream",
     "text": [
      "Model has a test accuracy of 0.8725525097899608\n"
     ]
    }
   ],
   "source": [
    "# YOU ARE REQUIRED TO INSERT YOUR CODES IN THIS CELL\n",
    "from sklearn.linear_model import LogisticRegression\n",
    "from sklearn.metrics import accuracy_score\n",
    "\n",
    "fitted = LogisticRegression(max_iter=1500).fit(X_train,y_train)\n",
    "y_pred = fitted.predict(X_test)\n",
    "print(f'Model has a test accuracy of {accuracy_score(y_test,y_pred)}')"
   ]
  },
  {
   "cell_type": "markdown",
   "metadata": {},
   "source": [
    "####  <span style=\"color:red\">**Question 2.11**</span>. Now modify the `extract_doc2vec` function above to  extract document vectors using `average`, instead of `sum`, and repeat the experiment: split the data, train and test using Logistic Regression.\n",
    "<div style=\"text-align: right\"><span style=\"color:red\">**[5 points]**</span></div> "
   ]
  },
  {
   "cell_type": "code",
   "execution_count": 123,
   "metadata": {},
   "outputs": [],
   "source": [
    "def extract_doc2vec(doc, w2v):\n",
    "    vecs = [w2v[word] for word in doc if word in w2v]\n",
    "    if len(vecs) > 0:\n",
    "        vecs = np.asarray(vecs).mean(axis=0)\n",
    "    return vecs"
   ]
  },
  {
   "cell_type": "code",
   "execution_count": 124,
   "metadata": {},
   "outputs": [
    {
     "name": "stderr",
     "output_type": "stream",
     "text": [
      "/home/deshwal/anaconda3/lib/python3.7/site-packages/ipykernel_launcher.py:2: DeprecationWarning: Call to deprecated `__contains__` (Method will be removed in 4.0.0, use self.wv.__contains__() instead).\n",
      "  \n",
      "/home/deshwal/anaconda3/lib/python3.7/site-packages/ipykernel_launcher.py:2: DeprecationWarning: Call to deprecated `__getitem__` (Method will be removed in 4.0.0, use self.wv.__getitem__() instead).\n",
      "  \n"
     ]
    }
   ],
   "source": [
    "labels = newsgroups_all['target']\n",
    "x = []\n",
    "y = []\n",
    "\n",
    "\n",
    "empty_index = []\n",
    "for i in range(len(tokenized_data)):\n",
    "    vec = extract_doc2vec(tokenized_data[i],model)\n",
    "    if len(vec):\n",
    "        x.append(vec)\n",
    "        y.append(labels[i])\n",
    "    else:\n",
    "        empty_index.append(i)"
   ]
  },
  {
   "cell_type": "code",
   "execution_count": 125,
   "metadata": {},
   "outputs": [],
   "source": [
    "X_train,X_test,y_train,y_test = train_test_split(x,y,test_size=0.3,stratify=y,\n",
    "                                                 random_state=13,shuffle=True)"
   ]
  },
  {
   "cell_type": "code",
   "execution_count": 126,
   "metadata": {},
   "outputs": [
    {
     "name": "stdout",
     "output_type": "stream",
     "text": [
      "Model has a test accuracy of 0.5784157363104732\n"
     ]
    }
   ],
   "source": [
    "fitted = LogisticRegression(max_iter=1500).fit(X_train,y_train)\n",
    "y_pred = fitted.predict(X_test)\n",
    "print(f'Model has a test accuracy of {accuracy_score(y_test,y_pred)}')"
   ]
  },
  {
   "cell_type": "markdown",
   "metadata": {},
   "source": [
    "####  <span style=\"color:red\">**Question 2.12**</span>. Which representation (sum or average doc vector) gives the best performance? Write your observations and any lessons learned.\n",
    "<div style=\"text-align: right\"><span style=\"color:red\">**[5 points]**</span></div> \n"
   ]
  },
  {
   "cell_type": "markdown",
   "metadata": {},
   "source": [
    "Sum of all the vectors gave a better accuracy because it could be for the fact that there are words that are specific for each article and have to be there together. Averaging the values can produce an ambiguous result as there can be 4+5+6+1/4 = 4 and 5+3/2 = 4 will change the whole perspective of word embeddings giving an illusions of same articles."
   ]
  },
  {
   "cell_type": "markdown",
   "metadata": {},
   "source": [
    "--- \n",
    "<div style=\"text-align: center\"> <span style=\"color:black\">**END OF ASSIGNMENT**</span> </div>"
   ]
  }
 ],
 "metadata": {
  "kernelspec": {
   "display_name": "Python 3",
   "language": "python",
   "name": "python3"
  },
  "language_info": {
   "codemirror_mode": {
    "name": "ipython",
    "version": 3
   },
   "file_extension": ".py",
   "mimetype": "text/x-python",
   "name": "python",
   "nbconvert_exporter": "python",
   "pygments_lexer": "ipython3",
   "version": "3.7.4"
  }
 },
 "nbformat": 4,
 "nbformat_minor": 4
}
